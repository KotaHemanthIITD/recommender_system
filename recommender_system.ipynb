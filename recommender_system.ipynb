{
 "cells": [
  {
   "cell_type": "code",
   "execution_count": null,
   "metadata": {
    "collapsed": true
   },
   "outputs": [],
   "source": [
    "# https://turi.com/learn/userguide/recommender/introduction.html\n",
    "# https://github.com/apple/turicreate\n",
    "# https://github.com/turi-code/sample-movie-recommender\n",
    "# https://turi.com/download/install-graphlab-create-command-line.html?email=cs1130233%40iitd.ac.in&key=E368-0451-310A-410F-202F-A5DD-4858-A3AA"
   ]
  },
  {
   "cell_type": "code",
   "execution_count": 1,
   "metadata": {
    "collapsed": true
   },
   "outputs": [],
   "source": [
    "import pandas as pd\n",
    "import numpy as np\n",
    "from matplotlib import pyplot as plot\n",
    "import sklearn as sk"
   ]
  },
  {
   "cell_type": "code",
   "execution_count": 2,
   "metadata": {
    "collapsed": false
   },
   "outputs": [],
   "source": [
    "import graphlab as gl"
   ]
  },
  {
   "cell_type": "code",
   "execution_count": 3,
   "metadata": {
    "collapsed": false
   },
   "outputs": [
    {
     "name": "stdout",
     "output_type": "stream",
     "text": [
      "This non-commercial license of GraphLab Create for academic use is assigned to cs1130233@iitd.ac.in and will expire on April 09, 2020.\n"
     ]
    },
    {
     "name": "stderr",
     "output_type": "stream",
     "text": [
      "[INFO] graphlab.cython.cy_server: GraphLab Create v2.1 started. Logging: /tmp/graphlab_server_1554941592.log\n"
     ]
    },
    {
     "data": {
      "text/html": [
       "<pre>Finished parsing file /Users/Chaitra/Documents/dataset/ml-20m/ratings.csv</pre>"
      ],
      "text/plain": [
       "Finished parsing file /Users/Chaitra/Documents/dataset/ml-20m/ratings.csv"
      ]
     },
     "metadata": {},
     "output_type": "display_data"
    },
    {
     "data": {
      "text/html": [
       "<pre>Parsing completed. Parsed 100 lines in 2.12823 secs.</pre>"
      ],
      "text/plain": [
       "Parsing completed. Parsed 100 lines in 2.12823 secs."
      ]
     },
     "metadata": {},
     "output_type": "display_data"
    },
    {
     "name": "stdout",
     "output_type": "stream",
     "text": [
      "------------------------------------------------------\n",
      "Inferred types from first 100 line(s) of file as \n",
      "column_type_hints=[int,int,float,int]\n",
      "If parsing fails due to incorrect types, you can correct\n",
      "the inferred type list above and pass it to read_csv in\n",
      "the column_type_hints argument\n",
      "------------------------------------------------------\n"
     ]
    },
    {
     "data": {
      "text/html": [
       "<pre>Read 2042753 lines. Lines per second: 841670</pre>"
      ],
      "text/plain": [
       "Read 2042753 lines. Lines per second: 841670"
      ]
     },
     "metadata": {},
     "output_type": "display_data"
    },
    {
     "data": {
      "text/html": [
       "<pre>Read 9960799 lines. Lines per second: 1.24513e+06</pre>"
      ],
      "text/plain": [
       "Read 9960799 lines. Lines per second: 1.24513e+06"
      ]
     },
     "metadata": {},
     "output_type": "display_data"
    },
    {
     "data": {
      "text/html": [
       "<pre>Read 17758054 lines. Lines per second: 1.31421e+06</pre>"
      ],
      "text/plain": [
       "Read 17758054 lines. Lines per second: 1.31421e+06"
      ]
     },
     "metadata": {},
     "output_type": "display_data"
    },
    {
     "data": {
      "text/html": [
       "<pre>Finished parsing file /Users/Chaitra/Documents/dataset/ml-20m/ratings.csv</pre>"
      ],
      "text/plain": [
       "Finished parsing file /Users/Chaitra/Documents/dataset/ml-20m/ratings.csv"
      ]
     },
     "metadata": {},
     "output_type": "display_data"
    },
    {
     "data": {
      "text/html": [
       "<pre>Parsing completed. Parsed 20000263 lines in 14.0987 secs.</pre>"
      ],
      "text/plain": [
       "Parsing completed. Parsed 20000263 lines in 14.0987 secs."
      ]
     },
     "metadata": {},
     "output_type": "display_data"
    }
   ],
   "source": [
    "actions = gl.SFrame.read_csv('./dataset/ml-20m/ratings.csv')"
   ]
  },
  {
   "cell_type": "code",
   "execution_count": 4,
   "metadata": {
    "collapsed": false
   },
   "outputs": [
    {
     "name": "stdout",
     "output_type": "stream",
     "text": [
      "+--------+---------+--------+------------+\n",
      "| userId | movieId | rating | timestamp  |\n",
      "+--------+---------+--------+------------+\n",
      "|   1    |    2    |  3.5   | 1112486027 |\n",
      "|   1    |    29   |  3.5   | 1112484676 |\n",
      "|   1    |    32   |  3.5   | 1112484819 |\n",
      "|   1    |    47   |  3.5   | 1112484727 |\n",
      "|   1    |    50   |  3.5   | 1112484580 |\n",
      "|   1    |   112   |  3.5   | 1094785740 |\n",
      "|   1    |   151   |  4.0   | 1094785734 |\n",
      "|   1    |   223   |  4.0   | 1112485573 |\n",
      "|   1    |   253   |  4.0   | 1112484940 |\n",
      "|   1    |   260   |  4.0   | 1112484826 |\n",
      "+--------+---------+--------+------------+\n",
      "[20000263 rows x 4 columns]\n",
      "Note: Only the head of the SFrame is printed.\n",
      "You can use print_rows(num_rows=m, num_columns=n) to print more rows and columns.\n"
     ]
    }
   ],
   "source": [
    "print(actions)"
   ]
  },
  {
   "cell_type": "code",
   "execution_count": 5,
   "metadata": {
    "collapsed": false
   },
   "outputs": [
    {
     "data": {
      "text/html": [
       "<pre>Recsys training: model = item_similarity</pre>"
      ],
      "text/plain": [
       "Recsys training: model = item_similarity"
      ]
     },
     "metadata": {},
     "output_type": "display_data"
    },
    {
     "data": {
      "text/html": [
       "<pre>Warning: Ignoring columns rating, timestamp;</pre>"
      ],
      "text/plain": [
       "Warning: Ignoring columns rating, timestamp;"
      ]
     },
     "metadata": {},
     "output_type": "display_data"
    },
    {
     "data": {
      "text/html": [
       "<pre>    To use one of these as a target column, set target = <column_name></pre>"
      ],
      "text/plain": [
       "    To use one of these as a target column, set target = <column_name>"
      ]
     },
     "metadata": {},
     "output_type": "display_data"
    },
    {
     "data": {
      "text/html": [
       "<pre>    and use a method that allows the use of a target.</pre>"
      ],
      "text/plain": [
       "    and use a method that allows the use of a target."
      ]
     },
     "metadata": {},
     "output_type": "display_data"
    },
    {
     "data": {
      "text/html": [
       "<pre>Preparing data set.</pre>"
      ],
      "text/plain": [
       "Preparing data set."
      ]
     },
     "metadata": {},
     "output_type": "display_data"
    },
    {
     "data": {
      "text/html": [
       "<pre>    Data has 19970212 observations with 138493 users and 26657 items.</pre>"
      ],
      "text/plain": [
       "    Data has 19970212 observations with 138493 users and 26657 items."
      ]
     },
     "metadata": {},
     "output_type": "display_data"
    },
    {
     "data": {
      "text/html": [
       "<pre>    Data prepared in: 13.4599s</pre>"
      ],
      "text/plain": [
       "    Data prepared in: 13.4599s"
      ]
     },
     "metadata": {},
     "output_type": "display_data"
    },
    {
     "data": {
      "text/html": [
       "<pre>Training model from provided data.</pre>"
      ],
      "text/plain": [
       "Training model from provided data."
      ]
     },
     "metadata": {},
     "output_type": "display_data"
    },
    {
     "data": {
      "text/html": [
       "<pre>Gathering per-item and per-user statistics.</pre>"
      ],
      "text/plain": [
       "Gathering per-item and per-user statistics."
      ]
     },
     "metadata": {},
     "output_type": "display_data"
    },
    {
     "data": {
      "text/html": [
       "<pre>+--------------------------------+------------+</pre>"
      ],
      "text/plain": [
       "+--------------------------------+------------+"
      ]
     },
     "metadata": {},
     "output_type": "display_data"
    },
    {
     "data": {
      "text/html": [
       "<pre>| Elapsed Time (Item Statistics) | % Complete |</pre>"
      ],
      "text/plain": [
       "| Elapsed Time (Item Statistics) | % Complete |"
      ]
     },
     "metadata": {},
     "output_type": "display_data"
    },
    {
     "data": {
      "text/html": [
       "<pre>+--------------------------------+------------+</pre>"
      ],
      "text/plain": [
       "+--------------------------------+------------+"
      ]
     },
     "metadata": {},
     "output_type": "display_data"
    },
    {
     "data": {
      "text/html": [
       "<pre>| 38.825ms                       | 0.5        |</pre>"
      ],
      "text/plain": [
       "| 38.825ms                       | 0.5        |"
      ]
     },
     "metadata": {},
     "output_type": "display_data"
    },
    {
     "data": {
      "text/html": [
       "<pre>| 611.397ms                      | 100        |</pre>"
      ],
      "text/plain": [
       "| 611.397ms                      | 100        |"
      ]
     },
     "metadata": {},
     "output_type": "display_data"
    },
    {
     "data": {
      "text/html": [
       "<pre>+--------------------------------+------------+</pre>"
      ],
      "text/plain": [
       "+--------------------------------+------------+"
      ]
     },
     "metadata": {},
     "output_type": "display_data"
    },
    {
     "data": {
      "text/html": [
       "<pre>Setting up lookup tables.</pre>"
      ],
      "text/plain": [
       "Setting up lookup tables."
      ]
     },
     "metadata": {},
     "output_type": "display_data"
    },
    {
     "data": {
      "text/html": [
       "<pre>Processing data in one pass using dense lookup tables.</pre>"
      ],
      "text/plain": [
       "Processing data in one pass using dense lookup tables."
      ]
     },
     "metadata": {},
     "output_type": "display_data"
    },
    {
     "data": {
      "text/html": [
       "<pre>+-------------------------------------+------------------+-----------------+</pre>"
      ],
      "text/plain": [
       "+-------------------------------------+------------------+-----------------+"
      ]
     },
     "metadata": {},
     "output_type": "display_data"
    },
    {
     "data": {
      "text/html": [
       "<pre>| Elapsed Time (Constructing Lookups) | Total % Complete | Items Processed |</pre>"
      ],
      "text/plain": [
       "| Elapsed Time (Constructing Lookups) | Total % Complete | Items Processed |"
      ]
     },
     "metadata": {},
     "output_type": "display_data"
    },
    {
     "data": {
      "text/html": [
       "<pre>+-------------------------------------+------------------+-----------------+</pre>"
      ],
      "text/plain": [
       "+-------------------------------------+------------------+-----------------+"
      ]
     },
     "metadata": {},
     "output_type": "display_data"
    },
    {
     "data": {
      "text/html": [
       "<pre>| 4.04s                               | 0                | 0               |</pre>"
      ],
      "text/plain": [
       "| 4.04s                               | 0                | 0               |"
      ]
     },
     "metadata": {},
     "output_type": "display_data"
    },
    {
     "data": {
      "text/html": [
       "<pre>| 5.04s                               | 1.25             | 337             |</pre>"
      ],
      "text/plain": [
       "| 5.04s                               | 1.25             | 337             |"
      ]
     },
     "metadata": {},
     "output_type": "display_data"
    },
    {
     "data": {
      "text/html": [
       "<pre>| 6.05s                               | 2.5              | 728             |</pre>"
      ],
      "text/plain": [
       "| 6.05s                               | 2.5              | 728             |"
      ]
     },
     "metadata": {},
     "output_type": "display_data"
    },
    {
     "data": {
      "text/html": [
       "<pre>| 7.04s                               | 4                | 1122            |</pre>"
      ],
      "text/plain": [
       "| 7.04s                               | 4                | 1122            |"
      ]
     },
     "metadata": {},
     "output_type": "display_data"
    },
    {
     "data": {
      "text/html": [
       "<pre>| 8.04s                               | 5.5              | 1474            |</pre>"
      ],
      "text/plain": [
       "| 8.04s                               | 5.5              | 1474            |"
      ]
     },
     "metadata": {},
     "output_type": "display_data"
    },
    {
     "data": {
      "text/html": [
       "<pre>| 9.04s                               | 6.5              | 1798            |</pre>"
      ],
      "text/plain": [
       "| 9.04s                               | 6.5              | 1798            |"
      ]
     },
     "metadata": {},
     "output_type": "display_data"
    },
    {
     "data": {
      "text/html": [
       "<pre>| 10.04s                              | 8                | 2179            |</pre>"
      ],
      "text/plain": [
       "| 10.04s                              | 8                | 2179            |"
      ]
     },
     "metadata": {},
     "output_type": "display_data"
    },
    {
     "data": {
      "text/html": [
       "<pre>| 11.04s                              | 9.5              | 2581            |</pre>"
      ],
      "text/plain": [
       "| 11.04s                              | 9.5              | 2581            |"
      ]
     },
     "metadata": {},
     "output_type": "display_data"
    },
    {
     "data": {
      "text/html": [
       "<pre>| 12.04s                              | 11               | 2966            |</pre>"
      ],
      "text/plain": [
       "| 12.04s                              | 11               | 2966            |"
      ]
     },
     "metadata": {},
     "output_type": "display_data"
    },
    {
     "data": {
      "text/html": [
       "<pre>| 13.04s                              | 12.25            | 3276            |</pre>"
      ],
      "text/plain": [
       "| 13.04s                              | 12.25            | 3276            |"
      ]
     },
     "metadata": {},
     "output_type": "display_data"
    },
    {
     "data": {
      "text/html": [
       "<pre>| 14.04s                              | 13.75            | 3671            |</pre>"
      ],
      "text/plain": [
       "| 14.04s                              | 13.75            | 3671            |"
      ]
     },
     "metadata": {},
     "output_type": "display_data"
    },
    {
     "data": {
      "text/html": [
       "<pre>| 15.04s                              | 15.25            | 4091            |</pre>"
      ],
      "text/plain": [
       "| 15.04s                              | 15.25            | 4091            |"
      ]
     },
     "metadata": {},
     "output_type": "display_data"
    },
    {
     "data": {
      "text/html": [
       "<pre>| 16.04s                              | 16.75            | 4465            |</pre>"
      ],
      "text/plain": [
       "| 16.04s                              | 16.75            | 4465            |"
      ]
     },
     "metadata": {},
     "output_type": "display_data"
    },
    {
     "data": {
      "text/html": [
       "<pre>| 17.04s                              | 18               | 4826            |</pre>"
      ],
      "text/plain": [
       "| 17.04s                              | 18               | 4826            |"
      ]
     },
     "metadata": {},
     "output_type": "display_data"
    },
    {
     "data": {
      "text/html": [
       "<pre>| 18.04s                              | 19.5             | 5229            |</pre>"
      ],
      "text/plain": [
       "| 18.04s                              | 19.5             | 5229            |"
      ]
     },
     "metadata": {},
     "output_type": "display_data"
    },
    {
     "data": {
      "text/html": [
       "<pre>| 19.04s                              | 20.75            | 5581            |</pre>"
      ],
      "text/plain": [
       "| 19.04s                              | 20.75            | 5581            |"
      ]
     },
     "metadata": {},
     "output_type": "display_data"
    },
    {
     "data": {
      "text/html": [
       "<pre>| 20.04s                              | 22               | 5925            |</pre>"
      ],
      "text/plain": [
       "| 20.04s                              | 22               | 5925            |"
      ]
     },
     "metadata": {},
     "output_type": "display_data"
    },
    {
     "data": {
      "text/html": [
       "<pre>| 21.04s                              | 23.25            | 6208            |</pre>"
      ],
      "text/plain": [
       "| 21.04s                              | 23.25            | 6208            |"
      ]
     },
     "metadata": {},
     "output_type": "display_data"
    },
    {
     "data": {
      "text/html": [
       "<pre>| 22.05s                              | 24.75            | 6629            |</pre>"
      ],
      "text/plain": [
       "| 22.05s                              | 24.75            | 6629            |"
      ]
     },
     "metadata": {},
     "output_type": "display_data"
    },
    {
     "data": {
      "text/html": [
       "<pre>| 23.04s                              | 26.25            | 7001            |</pre>"
      ],
      "text/plain": [
       "| 23.04s                              | 26.25            | 7001            |"
      ]
     },
     "metadata": {},
     "output_type": "display_data"
    },
    {
     "data": {
      "text/html": [
       "<pre>| 24.05s                              | 27.5             | 7361            |</pre>"
      ],
      "text/plain": [
       "| 24.05s                              | 27.5             | 7361            |"
      ]
     },
     "metadata": {},
     "output_type": "display_data"
    },
    {
     "data": {
      "text/html": [
       "<pre>| 25.05s                              | 29               | 7743            |</pre>"
      ],
      "text/plain": [
       "| 25.05s                              | 29               | 7743            |"
      ]
     },
     "metadata": {},
     "output_type": "display_data"
    },
    {
     "data": {
      "text/html": [
       "<pre>| 26.05s                              | 30.5             | 8146            |</pre>"
      ],
      "text/plain": [
       "| 26.05s                              | 30.5             | 8146            |"
      ]
     },
     "metadata": {},
     "output_type": "display_data"
    },
    {
     "data": {
      "text/html": [
       "<pre>| 27.05s                              | 31.75            | 8528            |</pre>"
      ],
      "text/plain": [
       "| 27.05s                              | 31.75            | 8528            |"
      ]
     },
     "metadata": {},
     "output_type": "display_data"
    },
    {
     "data": {
      "text/html": [
       "<pre>| 28.05s                              | 33.25            | 8894            |</pre>"
      ],
      "text/plain": [
       "| 28.05s                              | 33.25            | 8894            |"
      ]
     },
     "metadata": {},
     "output_type": "display_data"
    },
    {
     "data": {
      "text/html": [
       "<pre>| 29.05s                              | 34.75            | 9304            |</pre>"
      ],
      "text/plain": [
       "| 29.05s                              | 34.75            | 9304            |"
      ]
     },
     "metadata": {},
     "output_type": "display_data"
    },
    {
     "data": {
      "text/html": [
       "<pre>| 30.05s                              | 36               | 9640            |</pre>"
      ],
      "text/plain": [
       "| 30.05s                              | 36               | 9640            |"
      ]
     },
     "metadata": {},
     "output_type": "display_data"
    },
    {
     "data": {
      "text/html": [
       "<pre>| 31.05s                              | 37.5             | 10001           |</pre>"
      ],
      "text/plain": [
       "| 31.05s                              | 37.5             | 10001           |"
      ]
     },
     "metadata": {},
     "output_type": "display_data"
    },
    {
     "data": {
      "text/html": [
       "<pre>| 32.05s                              | 39               | 10431           |</pre>"
      ],
      "text/plain": [
       "| 32.05s                              | 39               | 10431           |"
      ]
     },
     "metadata": {},
     "output_type": "display_data"
    },
    {
     "data": {
      "text/html": [
       "<pre>| 33.06s                              | 40               | 10702           |</pre>"
      ],
      "text/plain": [
       "| 33.06s                              | 40               | 10702           |"
      ]
     },
     "metadata": {},
     "output_type": "display_data"
    },
    {
     "data": {
      "text/html": [
       "<pre>| 34.06s                              | 41.75            | 11165           |</pre>"
      ],
      "text/plain": [
       "| 34.06s                              | 41.75            | 11165           |"
      ]
     },
     "metadata": {},
     "output_type": "display_data"
    },
    {
     "data": {
      "text/html": [
       "<pre>| 35.05s                              | 42.75            | 11423           |</pre>"
      ],
      "text/plain": [
       "| 35.05s                              | 42.75            | 11423           |"
      ]
     },
     "metadata": {},
     "output_type": "display_data"
    },
    {
     "data": {
      "text/html": [
       "<pre>| 36.05s                              | 44.25            | 11796           |</pre>"
      ],
      "text/plain": [
       "| 36.05s                              | 44.25            | 11796           |"
      ]
     },
     "metadata": {},
     "output_type": "display_data"
    },
    {
     "data": {
      "text/html": [
       "<pre>| 37.05s                              | 45.25            | 12096           |</pre>"
      ],
      "text/plain": [
       "| 37.05s                              | 45.25            | 12096           |"
      ]
     },
     "metadata": {},
     "output_type": "display_data"
    },
    {
     "data": {
      "text/html": [
       "<pre>| 38.05s                              | 46.75            | 12463           |</pre>"
      ],
      "text/plain": [
       "| 38.05s                              | 46.75            | 12463           |"
      ]
     },
     "metadata": {},
     "output_type": "display_data"
    },
    {
     "data": {
      "text/html": [
       "<pre>| 39.05s                              | 48               | 12802           |</pre>"
      ],
      "text/plain": [
       "| 39.05s                              | 48               | 12802           |"
      ]
     },
     "metadata": {},
     "output_type": "display_data"
    },
    {
     "data": {
      "text/html": [
       "<pre>| 40.05s                              | 49.25            | 13185           |</pre>"
      ],
      "text/plain": [
       "| 40.05s                              | 49.25            | 13185           |"
      ]
     },
     "metadata": {},
     "output_type": "display_data"
    },
    {
     "data": {
      "text/html": [
       "<pre>| 41.05s                              | 51               | 13636           |</pre>"
      ],
      "text/plain": [
       "| 41.05s                              | 51               | 13636           |"
      ]
     },
     "metadata": {},
     "output_type": "display_data"
    },
    {
     "data": {
      "text/html": [
       "<pre>| 42.05s                              | 52.5             | 14000           |</pre>"
      ],
      "text/plain": [
       "| 42.05s                              | 52.5             | 14000           |"
      ]
     },
     "metadata": {},
     "output_type": "display_data"
    },
    {
     "data": {
      "text/html": [
       "<pre>| 43.05s                              | 53.75            | 14391           |</pre>"
      ],
      "text/plain": [
       "| 43.05s                              | 53.75            | 14391           |"
      ]
     },
     "metadata": {},
     "output_type": "display_data"
    },
    {
     "data": {
      "text/html": [
       "<pre>| 44.05s                              | 55.25            | 14772           |</pre>"
      ],
      "text/plain": [
       "| 44.05s                              | 55.25            | 14772           |"
      ]
     },
     "metadata": {},
     "output_type": "display_data"
    },
    {
     "data": {
      "text/html": [
       "<pre>| 45.05s                              | 56.5             | 15098           |</pre>"
      ],
      "text/plain": [
       "| 45.05s                              | 56.5             | 15098           |"
      ]
     },
     "metadata": {},
     "output_type": "display_data"
    },
    {
     "data": {
      "text/html": [
       "<pre>| 46.05s                              | 58               | 15466           |</pre>"
      ],
      "text/plain": [
       "| 46.05s                              | 58               | 15466           |"
      ]
     },
     "metadata": {},
     "output_type": "display_data"
    },
    {
     "data": {
      "text/html": [
       "<pre>| 47.05s                              | 59.25            | 15816           |</pre>"
      ],
      "text/plain": [
       "| 47.05s                              | 59.25            | 15816           |"
      ]
     },
     "metadata": {},
     "output_type": "display_data"
    },
    {
     "data": {
      "text/html": [
       "<pre>| 48.05s                              | 60.75            | 16210           |</pre>"
      ],
      "text/plain": [
       "| 48.05s                              | 60.75            | 16210           |"
      ]
     },
     "metadata": {},
     "output_type": "display_data"
    },
    {
     "data": {
      "text/html": [
       "<pre>| 49.05s                              | 62.25            | 16600           |</pre>"
      ],
      "text/plain": [
       "| 49.05s                              | 62.25            | 16600           |"
      ]
     },
     "metadata": {},
     "output_type": "display_data"
    },
    {
     "data": {
      "text/html": [
       "<pre>| 50.05s                              | 63.75            | 17035           |</pre>"
      ],
      "text/plain": [
       "| 50.05s                              | 63.75            | 17035           |"
      ]
     },
     "metadata": {},
     "output_type": "display_data"
    },
    {
     "data": {
      "text/html": [
       "<pre>| 51.05s                              | 65               | 17378           |</pre>"
      ],
      "text/plain": [
       "| 51.05s                              | 65               | 17378           |"
      ]
     },
     "metadata": {},
     "output_type": "display_data"
    },
    {
     "data": {
      "text/html": [
       "<pre>| 52.05s                              | 66.5             | 17746           |</pre>"
      ],
      "text/plain": [
       "| 52.05s                              | 66.5             | 17746           |"
      ]
     },
     "metadata": {},
     "output_type": "display_data"
    },
    {
     "data": {
      "text/html": [
       "<pre>| 53.06s                              | 67.75            | 18094           |</pre>"
      ],
      "text/plain": [
       "| 53.06s                              | 67.75            | 18094           |"
      ]
     },
     "metadata": {},
     "output_type": "display_data"
    },
    {
     "data": {
      "text/html": [
       "<pre>| 54.05s                              | 69               | 18429           |</pre>"
      ],
      "text/plain": [
       "| 54.05s                              | 69               | 18429           |"
      ]
     },
     "metadata": {},
     "output_type": "display_data"
    },
    {
     "data": {
      "text/html": [
       "<pre>| 55.05s                              | 70.5             | 18810           |</pre>"
      ],
      "text/plain": [
       "| 55.05s                              | 70.5             | 18810           |"
      ]
     },
     "metadata": {},
     "output_type": "display_data"
    },
    {
     "data": {
      "text/html": [
       "<pre>| 56.05s                              | 71.75            | 19166           |</pre>"
      ],
      "text/plain": [
       "| 56.05s                              | 71.75            | 19166           |"
      ]
     },
     "metadata": {},
     "output_type": "display_data"
    },
    {
     "data": {
      "text/html": [
       "<pre>| 57.05s                              | 73.25            | 19527           |</pre>"
      ],
      "text/plain": [
       "| 57.05s                              | 73.25            | 19527           |"
      ]
     },
     "metadata": {},
     "output_type": "display_data"
    },
    {
     "data": {
      "text/html": [
       "<pre>| 58.06s                              | 74.5             | 19916           |</pre>"
      ],
      "text/plain": [
       "| 58.06s                              | 74.5             | 19916           |"
      ]
     },
     "metadata": {},
     "output_type": "display_data"
    },
    {
     "data": {
      "text/html": [
       "<pre>| 59.05s                              | 76               | 20282           |</pre>"
      ],
      "text/plain": [
       "| 59.05s                              | 76               | 20282           |"
      ]
     },
     "metadata": {},
     "output_type": "display_data"
    },
    {
     "data": {
      "text/html": [
       "<pre>| 1m 0s                               | 77.25            | 20651           |</pre>"
      ],
      "text/plain": [
       "| 1m 0s                               | 77.25            | 20651           |"
      ]
     },
     "metadata": {},
     "output_type": "display_data"
    },
    {
     "data": {
      "text/html": [
       "<pre>| 1m 1s                               | 78.5             | 20988           |</pre>"
      ],
      "text/plain": [
       "| 1m 1s                               | 78.5             | 20988           |"
      ]
     },
     "metadata": {},
     "output_type": "display_data"
    },
    {
     "data": {
      "text/html": [
       "<pre>| 1m 2s                               | 80               | 21378           |</pre>"
      ],
      "text/plain": [
       "| 1m 2s                               | 80               | 21378           |"
      ]
     },
     "metadata": {},
     "output_type": "display_data"
    },
    {
     "data": {
      "text/html": [
       "<pre>| 1m 3s                               | 81.5             | 21776           |</pre>"
      ],
      "text/plain": [
       "| 1m 3s                               | 81.5             | 21776           |"
      ]
     },
     "metadata": {},
     "output_type": "display_data"
    },
    {
     "data": {
      "text/html": [
       "<pre>| 1m 4s                               | 82.5             | 22039           |</pre>"
      ],
      "text/plain": [
       "| 1m 4s                               | 82.5             | 22039           |"
      ]
     },
     "metadata": {},
     "output_type": "display_data"
    },
    {
     "data": {
      "text/html": [
       "<pre>| 1m 5s                               | 83.75            | 22370           |</pre>"
      ],
      "text/plain": [
       "| 1m 5s                               | 83.75            | 22370           |"
      ]
     },
     "metadata": {},
     "output_type": "display_data"
    },
    {
     "data": {
      "text/html": [
       "<pre>| 1m 6s                               | 85.25            | 22753           |</pre>"
      ],
      "text/plain": [
       "| 1m 6s                               | 85.25            | 22753           |"
      ]
     },
     "metadata": {},
     "output_type": "display_data"
    },
    {
     "data": {
      "text/html": [
       "<pre>| 1m 7s                               | 86.75            | 23129           |</pre>"
      ],
      "text/plain": [
       "| 1m 7s                               | 86.75            | 23129           |"
      ]
     },
     "metadata": {},
     "output_type": "display_data"
    },
    {
     "data": {
      "text/html": [
       "<pre>| 1m 8s                               | 88.25            | 23560           |</pre>"
      ],
      "text/plain": [
       "| 1m 8s                               | 88.25            | 23560           |"
      ]
     },
     "metadata": {},
     "output_type": "display_data"
    },
    {
     "data": {
      "text/html": [
       "<pre>| 1m 9s                               | 89.75            | 23957           |</pre>"
      ],
      "text/plain": [
       "| 1m 9s                               | 89.75            | 23957           |"
      ]
     },
     "metadata": {},
     "output_type": "display_data"
    },
    {
     "data": {
      "text/html": [
       "<pre>| 1m 10s                              | 91.5             | 24406           |</pre>"
      ],
      "text/plain": [
       "| 1m 10s                              | 91.5             | 24406           |"
      ]
     },
     "metadata": {},
     "output_type": "display_data"
    },
    {
     "data": {
      "text/html": [
       "<pre>| 1m 11s                              | 93               | 24832           |</pre>"
      ],
      "text/plain": [
       "| 1m 11s                              | 93               | 24832           |"
      ]
     },
     "metadata": {},
     "output_type": "display_data"
    },
    {
     "data": {
      "text/html": [
       "<pre>| 1m 12s                              | 94.5             | 25200           |</pre>"
      ],
      "text/plain": [
       "| 1m 12s                              | 94.5             | 25200           |"
      ]
     },
     "metadata": {},
     "output_type": "display_data"
    },
    {
     "data": {
      "text/html": [
       "<pre>| 1m 13s                              | 95.75            | 25588           |</pre>"
      ],
      "text/plain": [
       "| 1m 13s                              | 95.75            | 25588           |"
      ]
     },
     "metadata": {},
     "output_type": "display_data"
    },
    {
     "data": {
      "text/html": [
       "<pre>| 1m 14s                              | 97.5             | 25995           |</pre>"
      ],
      "text/plain": [
       "| 1m 14s                              | 97.5             | 25995           |"
      ]
     },
     "metadata": {},
     "output_type": "display_data"
    },
    {
     "data": {
      "text/html": [
       "<pre>| 1m 15s                              | 99               | 26446           |</pre>"
      ],
      "text/plain": [
       "| 1m 15s                              | 99               | 26446           |"
      ]
     },
     "metadata": {},
     "output_type": "display_data"
    },
    {
     "data": {
      "text/html": [
       "<pre>| 1m 25s                              | 100              | 26657           |</pre>"
      ],
      "text/plain": [
       "| 1m 25s                              | 100              | 26657           |"
      ]
     },
     "metadata": {},
     "output_type": "display_data"
    },
    {
     "data": {
      "text/html": [
       "<pre>+-------------------------------------+------------------+-----------------+</pre>"
      ],
      "text/plain": [
       "+-------------------------------------+------------------+-----------------+"
      ]
     },
     "metadata": {},
     "output_type": "display_data"
    },
    {
     "data": {
      "text/html": [
       "<pre>Finalizing lookup tables.</pre>"
      ],
      "text/plain": [
       "Finalizing lookup tables."
      ]
     },
     "metadata": {},
     "output_type": "display_data"
    },
    {
     "data": {
      "text/html": [
       "<pre>Generating candidate set for working with new users.</pre>"
      ],
      "text/plain": [
       "Generating candidate set for working with new users."
      ]
     },
     "metadata": {},
     "output_type": "display_data"
    },
    {
     "data": {
      "text/html": [
       "<pre>Finished training in 95.7868s</pre>"
      ],
      "text/plain": [
       "Finished training in 95.7868s"
      ]
     },
     "metadata": {},
     "output_type": "display_data"
    }
   ],
   "source": [
    "training_data, validation_data = gl.recommender.util.random_split_by_user(actions, 'userId', 'movieId')\n",
    "model = gl.recommender.create(training_data, 'userId', 'movieId')"
   ]
  },
  {
   "cell_type": "code",
   "execution_count": 6,
   "metadata": {
    "collapsed": false
   },
   "outputs": [
    {
     "data": {
      "text/html": [
       "<pre>recommendations finished on 1000/138493 queries. users per second: 4447.13</pre>"
      ],
      "text/plain": [
       "recommendations finished on 1000/138493 queries. users per second: 4447.13"
      ]
     },
     "metadata": {},
     "output_type": "display_data"
    },
    {
     "data": {
      "text/html": [
       "<pre>recommendations finished on 2000/138493 queries. users per second: 5149.64</pre>"
      ],
      "text/plain": [
       "recommendations finished on 2000/138493 queries. users per second: 5149.64"
      ]
     },
     "metadata": {},
     "output_type": "display_data"
    },
    {
     "data": {
      "text/html": [
       "<pre>recommendations finished on 3000/138493 queries. users per second: 5442.55</pre>"
      ],
      "text/plain": [
       "recommendations finished on 3000/138493 queries. users per second: 5442.55"
      ]
     },
     "metadata": {},
     "output_type": "display_data"
    },
    {
     "data": {
      "text/html": [
       "<pre>recommendations finished on 4000/138493 queries. users per second: 5581.58</pre>"
      ],
      "text/plain": [
       "recommendations finished on 4000/138493 queries. users per second: 5581.58"
      ]
     },
     "metadata": {},
     "output_type": "display_data"
    },
    {
     "data": {
      "text/html": [
       "<pre>recommendations finished on 5000/138493 queries. users per second: 5639.55</pre>"
      ],
      "text/plain": [
       "recommendations finished on 5000/138493 queries. users per second: 5639.55"
      ]
     },
     "metadata": {},
     "output_type": "display_data"
    },
    {
     "data": {
      "text/html": [
       "<pre>recommendations finished on 6000/138493 queries. users per second: 5724.49</pre>"
      ],
      "text/plain": [
       "recommendations finished on 6000/138493 queries. users per second: 5724.49"
      ]
     },
     "metadata": {},
     "output_type": "display_data"
    },
    {
     "data": {
      "text/html": [
       "<pre>recommendations finished on 7000/138493 queries. users per second: 5761.15</pre>"
      ],
      "text/plain": [
       "recommendations finished on 7000/138493 queries. users per second: 5761.15"
      ]
     },
     "metadata": {},
     "output_type": "display_data"
    },
    {
     "data": {
      "text/html": [
       "<pre>recommendations finished on 8000/138493 queries. users per second: 5805.11</pre>"
      ],
      "text/plain": [
       "recommendations finished on 8000/138493 queries. users per second: 5805.11"
      ]
     },
     "metadata": {},
     "output_type": "display_data"
    },
    {
     "data": {
      "text/html": [
       "<pre>recommendations finished on 9000/138493 queries. users per second: 5762.9</pre>"
      ],
      "text/plain": [
       "recommendations finished on 9000/138493 queries. users per second: 5762.9"
      ]
     },
     "metadata": {},
     "output_type": "display_data"
    },
    {
     "data": {
      "text/html": [
       "<pre>recommendations finished on 10000/138493 queries. users per second: 5749.86</pre>"
      ],
      "text/plain": [
       "recommendations finished on 10000/138493 queries. users per second: 5749.86"
      ]
     },
     "metadata": {},
     "output_type": "display_data"
    },
    {
     "data": {
      "text/html": [
       "<pre>recommendations finished on 11000/138493 queries. users per second: 5618.88</pre>"
      ],
      "text/plain": [
       "recommendations finished on 11000/138493 queries. users per second: 5618.88"
      ]
     },
     "metadata": {},
     "output_type": "display_data"
    },
    {
     "data": {
      "text/html": [
       "<pre>recommendations finished on 12000/138493 queries. users per second: 5449.43</pre>"
      ],
      "text/plain": [
       "recommendations finished on 12000/138493 queries. users per second: 5449.43"
      ]
     },
     "metadata": {},
     "output_type": "display_data"
    },
    {
     "data": {
      "text/html": [
       "<pre>recommendations finished on 13000/138493 queries. users per second: 5439.32</pre>"
      ],
      "text/plain": [
       "recommendations finished on 13000/138493 queries. users per second: 5439.32"
      ]
     },
     "metadata": {},
     "output_type": "display_data"
    },
    {
     "data": {
      "text/html": [
       "<pre>recommendations finished on 14000/138493 queries. users per second: 5472.17</pre>"
      ],
      "text/plain": [
       "recommendations finished on 14000/138493 queries. users per second: 5472.17"
      ]
     },
     "metadata": {},
     "output_type": "display_data"
    },
    {
     "data": {
      "text/html": [
       "<pre>recommendations finished on 15000/138493 queries. users per second: 5489.12</pre>"
      ],
      "text/plain": [
       "recommendations finished on 15000/138493 queries. users per second: 5489.12"
      ]
     },
     "metadata": {},
     "output_type": "display_data"
    },
    {
     "data": {
      "text/html": [
       "<pre>recommendations finished on 16000/138493 queries. users per second: 5385.3</pre>"
      ],
      "text/plain": [
       "recommendations finished on 16000/138493 queries. users per second: 5385.3"
      ]
     },
     "metadata": {},
     "output_type": "display_data"
    },
    {
     "data": {
      "text/html": [
       "<pre>recommendations finished on 17000/138493 queries. users per second: 5279.86</pre>"
      ],
      "text/plain": [
       "recommendations finished on 17000/138493 queries. users per second: 5279.86"
      ]
     },
     "metadata": {},
     "output_type": "display_data"
    },
    {
     "data": {
      "text/html": [
       "<pre>recommendations finished on 18000/138493 queries. users per second: 5262.63</pre>"
      ],
      "text/plain": [
       "recommendations finished on 18000/138493 queries. users per second: 5262.63"
      ]
     },
     "metadata": {},
     "output_type": "display_data"
    },
    {
     "data": {
      "text/html": [
       "<pre>recommendations finished on 19000/138493 queries. users per second: 5301.62</pre>"
      ],
      "text/plain": [
       "recommendations finished on 19000/138493 queries. users per second: 5301.62"
      ]
     },
     "metadata": {},
     "output_type": "display_data"
    },
    {
     "data": {
      "text/html": [
       "<pre>recommendations finished on 20000/138493 queries. users per second: 5340.35</pre>"
      ],
      "text/plain": [
       "recommendations finished on 20000/138493 queries. users per second: 5340.35"
      ]
     },
     "metadata": {},
     "output_type": "display_data"
    },
    {
     "data": {
      "text/html": [
       "<pre>recommendations finished on 21000/138493 queries. users per second: 5362.33</pre>"
      ],
      "text/plain": [
       "recommendations finished on 21000/138493 queries. users per second: 5362.33"
      ]
     },
     "metadata": {},
     "output_type": "display_data"
    },
    {
     "data": {
      "text/html": [
       "<pre>recommendations finished on 22000/138493 queries. users per second: 5379.18</pre>"
      ],
      "text/plain": [
       "recommendations finished on 22000/138493 queries. users per second: 5379.18"
      ]
     },
     "metadata": {},
     "output_type": "display_data"
    },
    {
     "data": {
      "text/html": [
       "<pre>recommendations finished on 23000/138493 queries. users per second: 5276.03</pre>"
      ],
      "text/plain": [
       "recommendations finished on 23000/138493 queries. users per second: 5276.03"
      ]
     },
     "metadata": {},
     "output_type": "display_data"
    },
    {
     "data": {
      "text/html": [
       "<pre>recommendations finished on 24000/138493 queries. users per second: 5247.25</pre>"
      ],
      "text/plain": [
       "recommendations finished on 24000/138493 queries. users per second: 5247.25"
      ]
     },
     "metadata": {},
     "output_type": "display_data"
    },
    {
     "data": {
      "text/html": [
       "<pre>recommendations finished on 25000/138493 queries. users per second: 5245.62</pre>"
      ],
      "text/plain": [
       "recommendations finished on 25000/138493 queries. users per second: 5245.62"
      ]
     },
     "metadata": {},
     "output_type": "display_data"
    },
    {
     "data": {
      "text/html": [
       "<pre>recommendations finished on 26000/138493 queries. users per second: 5271.1</pre>"
      ],
      "text/plain": [
       "recommendations finished on 26000/138493 queries. users per second: 5271.1"
      ]
     },
     "metadata": {},
     "output_type": "display_data"
    },
    {
     "data": {
      "text/html": [
       "<pre>recommendations finished on 27000/138493 queries. users per second: 5295.44</pre>"
      ],
      "text/plain": [
       "recommendations finished on 27000/138493 queries. users per second: 5295.44"
      ]
     },
     "metadata": {},
     "output_type": "display_data"
    },
    {
     "data": {
      "text/html": [
       "<pre>recommendations finished on 28000/138493 queries. users per second: 5237.63</pre>"
      ],
      "text/plain": [
       "recommendations finished on 28000/138493 queries. users per second: 5237.63"
      ]
     },
     "metadata": {},
     "output_type": "display_data"
    },
    {
     "data": {
      "text/html": [
       "<pre>recommendations finished on 29000/138493 queries. users per second: 5205.33</pre>"
      ],
      "text/plain": [
       "recommendations finished on 29000/138493 queries. users per second: 5205.33"
      ]
     },
     "metadata": {},
     "output_type": "display_data"
    },
    {
     "data": {
      "text/html": [
       "<pre>recommendations finished on 30000/138493 queries. users per second: 5182.04</pre>"
      ],
      "text/plain": [
       "recommendations finished on 30000/138493 queries. users per second: 5182.04"
      ]
     },
     "metadata": {},
     "output_type": "display_data"
    },
    {
     "data": {
      "text/html": [
       "<pre>recommendations finished on 31000/138493 queries. users per second: 5203.61</pre>"
      ],
      "text/plain": [
       "recommendations finished on 31000/138493 queries. users per second: 5203.61"
      ]
     },
     "metadata": {},
     "output_type": "display_data"
    },
    {
     "data": {
      "text/html": [
       "<pre>recommendations finished on 32000/138493 queries. users per second: 5218.72</pre>"
      ],
      "text/plain": [
       "recommendations finished on 32000/138493 queries. users per second: 5218.72"
      ]
     },
     "metadata": {},
     "output_type": "display_data"
    },
    {
     "data": {
      "text/html": [
       "<pre>recommendations finished on 33000/138493 queries. users per second: 5174.85</pre>"
      ],
      "text/plain": [
       "recommendations finished on 33000/138493 queries. users per second: 5174.85"
      ]
     },
     "metadata": {},
     "output_type": "display_data"
    },
    {
     "data": {
      "text/html": [
       "<pre>recommendations finished on 34000/138493 queries. users per second: 5154.45</pre>"
      ],
      "text/plain": [
       "recommendations finished on 34000/138493 queries. users per second: 5154.45"
      ]
     },
     "metadata": {},
     "output_type": "display_data"
    },
    {
     "data": {
      "text/html": [
       "<pre>recommendations finished on 35000/138493 queries. users per second: 5142.44</pre>"
      ],
      "text/plain": [
       "recommendations finished on 35000/138493 queries. users per second: 5142.44"
      ]
     },
     "metadata": {},
     "output_type": "display_data"
    },
    {
     "data": {
      "text/html": [
       "<pre>recommendations finished on 36000/138493 queries. users per second: 5112.01</pre>"
      ],
      "text/plain": [
       "recommendations finished on 36000/138493 queries. users per second: 5112.01"
      ]
     },
     "metadata": {},
     "output_type": "display_data"
    },
    {
     "data": {
      "text/html": [
       "<pre>recommendations finished on 37000/138493 queries. users per second: 5102.42</pre>"
      ],
      "text/plain": [
       "recommendations finished on 37000/138493 queries. users per second: 5102.42"
      ]
     },
     "metadata": {},
     "output_type": "display_data"
    },
    {
     "data": {
      "text/html": [
       "<pre>recommendations finished on 38000/138493 queries. users per second: 5094.26</pre>"
      ],
      "text/plain": [
       "recommendations finished on 38000/138493 queries. users per second: 5094.26"
      ]
     },
     "metadata": {},
     "output_type": "display_data"
    },
    {
     "data": {
      "text/html": [
       "<pre>recommendations finished on 39000/138493 queries. users per second: 5112.83</pre>"
      ],
      "text/plain": [
       "recommendations finished on 39000/138493 queries. users per second: 5112.83"
      ]
     },
     "metadata": {},
     "output_type": "display_data"
    },
    {
     "data": {
      "text/html": [
       "<pre>recommendations finished on 40000/138493 queries. users per second: 5130.92</pre>"
      ],
      "text/plain": [
       "recommendations finished on 40000/138493 queries. users per second: 5130.92"
      ]
     },
     "metadata": {},
     "output_type": "display_data"
    },
    {
     "data": {
      "text/html": [
       "<pre>recommendations finished on 41000/138493 queries. users per second: 5140.27</pre>"
      ],
      "text/plain": [
       "recommendations finished on 41000/138493 queries. users per second: 5140.27"
      ]
     },
     "metadata": {},
     "output_type": "display_data"
    },
    {
     "data": {
      "text/html": [
       "<pre>recommendations finished on 42000/138493 queries. users per second: 5100.07</pre>"
      ],
      "text/plain": [
       "recommendations finished on 42000/138493 queries. users per second: 5100.07"
      ]
     },
     "metadata": {},
     "output_type": "display_data"
    },
    {
     "data": {
      "text/html": [
       "<pre>recommendations finished on 43000/138493 queries. users per second: 5088.26</pre>"
      ],
      "text/plain": [
       "recommendations finished on 43000/138493 queries. users per second: 5088.26"
      ]
     },
     "metadata": {},
     "output_type": "display_data"
    },
    {
     "data": {
      "text/html": [
       "<pre>recommendations finished on 44000/138493 queries. users per second: 5085.49</pre>"
      ],
      "text/plain": [
       "recommendations finished on 44000/138493 queries. users per second: 5085.49"
      ]
     },
     "metadata": {},
     "output_type": "display_data"
    },
    {
     "data": {
      "text/html": [
       "<pre>recommendations finished on 45000/138493 queries. users per second: 5102.7</pre>"
      ],
      "text/plain": [
       "recommendations finished on 45000/138493 queries. users per second: 5102.7"
      ]
     },
     "metadata": {},
     "output_type": "display_data"
    },
    {
     "data": {
      "text/html": [
       "<pre>recommendations finished on 46000/138493 queries. users per second: 5120.68</pre>"
      ],
      "text/plain": [
       "recommendations finished on 46000/138493 queries. users per second: 5120.68"
      ]
     },
     "metadata": {},
     "output_type": "display_data"
    },
    {
     "data": {
      "text/html": [
       "<pre>recommendations finished on 47000/138493 queries. users per second: 5129.46</pre>"
      ],
      "text/plain": [
       "recommendations finished on 47000/138493 queries. users per second: 5129.46"
      ]
     },
     "metadata": {},
     "output_type": "display_data"
    },
    {
     "data": {
      "text/html": [
       "<pre>recommendations finished on 48000/138493 queries. users per second: 5139.07</pre>"
      ],
      "text/plain": [
       "recommendations finished on 48000/138493 queries. users per second: 5139.07"
      ]
     },
     "metadata": {},
     "output_type": "display_data"
    },
    {
     "data": {
      "text/html": [
       "<pre>recommendations finished on 49000/138493 queries. users per second: 5151.14</pre>"
      ],
      "text/plain": [
       "recommendations finished on 49000/138493 queries. users per second: 5151.14"
      ]
     },
     "metadata": {},
     "output_type": "display_data"
    },
    {
     "data": {
      "text/html": [
       "<pre>recommendations finished on 50000/138493 queries. users per second: 5170.93</pre>"
      ],
      "text/plain": [
       "recommendations finished on 50000/138493 queries. users per second: 5170.93"
      ]
     },
     "metadata": {},
     "output_type": "display_data"
    },
    {
     "data": {
      "text/html": [
       "<pre>recommendations finished on 51000/138493 queries. users per second: 5187.74</pre>"
      ],
      "text/plain": [
       "recommendations finished on 51000/138493 queries. users per second: 5187.74"
      ]
     },
     "metadata": {},
     "output_type": "display_data"
    },
    {
     "data": {
      "text/html": [
       "<pre>recommendations finished on 52000/138493 queries. users per second: 5205.68</pre>"
      ],
      "text/plain": [
       "recommendations finished on 52000/138493 queries. users per second: 5205.68"
      ]
     },
     "metadata": {},
     "output_type": "display_data"
    },
    {
     "data": {
      "text/html": [
       "<pre>recommendations finished on 53000/138493 queries. users per second: 5218.64</pre>"
      ],
      "text/plain": [
       "recommendations finished on 53000/138493 queries. users per second: 5218.64"
      ]
     },
     "metadata": {},
     "output_type": "display_data"
    },
    {
     "data": {
      "text/html": [
       "<pre>recommendations finished on 54000/138493 queries. users per second: 5227.04</pre>"
      ],
      "text/plain": [
       "recommendations finished on 54000/138493 queries. users per second: 5227.04"
      ]
     },
     "metadata": {},
     "output_type": "display_data"
    },
    {
     "data": {
      "text/html": [
       "<pre>recommendations finished on 55000/138493 queries. users per second: 5242.06</pre>"
      ],
      "text/plain": [
       "recommendations finished on 55000/138493 queries. users per second: 5242.06"
      ]
     },
     "metadata": {},
     "output_type": "display_data"
    },
    {
     "data": {
      "text/html": [
       "<pre>recommendations finished on 56000/138493 queries. users per second: 5254.17</pre>"
      ],
      "text/plain": [
       "recommendations finished on 56000/138493 queries. users per second: 5254.17"
      ]
     },
     "metadata": {},
     "output_type": "display_data"
    },
    {
     "data": {
      "text/html": [
       "<pre>recommendations finished on 57000/138493 queries. users per second: 5267.01</pre>"
      ],
      "text/plain": [
       "recommendations finished on 57000/138493 queries. users per second: 5267.01"
      ]
     },
     "metadata": {},
     "output_type": "display_data"
    },
    {
     "data": {
      "text/html": [
       "<pre>recommendations finished on 58000/138493 queries. users per second: 5280.7</pre>"
      ],
      "text/plain": [
       "recommendations finished on 58000/138493 queries. users per second: 5280.7"
      ]
     },
     "metadata": {},
     "output_type": "display_data"
    },
    {
     "data": {
      "text/html": [
       "<pre>recommendations finished on 59000/138493 queries. users per second: 5294.68</pre>"
      ],
      "text/plain": [
       "recommendations finished on 59000/138493 queries. users per second: 5294.68"
      ]
     },
     "metadata": {},
     "output_type": "display_data"
    },
    {
     "data": {
      "text/html": [
       "<pre>recommendations finished on 60000/138493 queries. users per second: 5306.86</pre>"
      ],
      "text/plain": [
       "recommendations finished on 60000/138493 queries. users per second: 5306.86"
      ]
     },
     "metadata": {},
     "output_type": "display_data"
    },
    {
     "data": {
      "text/html": [
       "<pre>recommendations finished on 61000/138493 queries. users per second: 5318.39</pre>"
      ],
      "text/plain": [
       "recommendations finished on 61000/138493 queries. users per second: 5318.39"
      ]
     },
     "metadata": {},
     "output_type": "display_data"
    },
    {
     "data": {
      "text/html": [
       "<pre>recommendations finished on 62000/138493 queries. users per second: 5329.23</pre>"
      ],
      "text/plain": [
       "recommendations finished on 62000/138493 queries. users per second: 5329.23"
      ]
     },
     "metadata": {},
     "output_type": "display_data"
    },
    {
     "data": {
      "text/html": [
       "<pre>recommendations finished on 63000/138493 queries. users per second: 5341.33</pre>"
      ],
      "text/plain": [
       "recommendations finished on 63000/138493 queries. users per second: 5341.33"
      ]
     },
     "metadata": {},
     "output_type": "display_data"
    },
    {
     "data": {
      "text/html": [
       "<pre>recommendations finished on 64000/138493 queries. users per second: 5352.51</pre>"
      ],
      "text/plain": [
       "recommendations finished on 64000/138493 queries. users per second: 5352.51"
      ]
     },
     "metadata": {},
     "output_type": "display_data"
    },
    {
     "data": {
      "text/html": [
       "<pre>recommendations finished on 65000/138493 queries. users per second: 5364.69</pre>"
      ],
      "text/plain": [
       "recommendations finished on 65000/138493 queries. users per second: 5364.69"
      ]
     },
     "metadata": {},
     "output_type": "display_data"
    },
    {
     "data": {
      "text/html": [
       "<pre>recommendations finished on 66000/138493 queries. users per second: 5377.72</pre>"
      ],
      "text/plain": [
       "recommendations finished on 66000/138493 queries. users per second: 5377.72"
      ]
     },
     "metadata": {},
     "output_type": "display_data"
    },
    {
     "data": {
      "text/html": [
       "<pre>recommendations finished on 67000/138493 queries. users per second: 5386.57</pre>"
      ],
      "text/plain": [
       "recommendations finished on 67000/138493 queries. users per second: 5386.57"
      ]
     },
     "metadata": {},
     "output_type": "display_data"
    },
    {
     "data": {
      "text/html": [
       "<pre>recommendations finished on 68000/138493 queries. users per second: 5396.12</pre>"
      ],
      "text/plain": [
       "recommendations finished on 68000/138493 queries. users per second: 5396.12"
      ]
     },
     "metadata": {},
     "output_type": "display_data"
    },
    {
     "data": {
      "text/html": [
       "<pre>recommendations finished on 69000/138493 queries. users per second: 5401.21</pre>"
      ],
      "text/plain": [
       "recommendations finished on 69000/138493 queries. users per second: 5401.21"
      ]
     },
     "metadata": {},
     "output_type": "display_data"
    },
    {
     "data": {
      "text/html": [
       "<pre>recommendations finished on 70000/138493 queries. users per second: 5407.26</pre>"
      ],
      "text/plain": [
       "recommendations finished on 70000/138493 queries. users per second: 5407.26"
      ]
     },
     "metadata": {},
     "output_type": "display_data"
    },
    {
     "data": {
      "text/html": [
       "<pre>recommendations finished on 71000/138493 queries. users per second: 5417.4</pre>"
      ],
      "text/plain": [
       "recommendations finished on 71000/138493 queries. users per second: 5417.4"
      ]
     },
     "metadata": {},
     "output_type": "display_data"
    },
    {
     "data": {
      "text/html": [
       "<pre>recommendations finished on 72000/138493 queries. users per second: 5423.29</pre>"
      ],
      "text/plain": [
       "recommendations finished on 72000/138493 queries. users per second: 5423.29"
      ]
     },
     "metadata": {},
     "output_type": "display_data"
    },
    {
     "data": {
      "text/html": [
       "<pre>recommendations finished on 73000/138493 queries. users per second: 5428.44</pre>"
      ],
      "text/plain": [
       "recommendations finished on 73000/138493 queries. users per second: 5428.44"
      ]
     },
     "metadata": {},
     "output_type": "display_data"
    },
    {
     "data": {
      "text/html": [
       "<pre>recommendations finished on 74000/138493 queries. users per second: 5440.08</pre>"
      ],
      "text/plain": [
       "recommendations finished on 74000/138493 queries. users per second: 5440.08"
      ]
     },
     "metadata": {},
     "output_type": "display_data"
    },
    {
     "data": {
      "text/html": [
       "<pre>recommendations finished on 75000/138493 queries. users per second: 5449.23</pre>"
      ],
      "text/plain": [
       "recommendations finished on 75000/138493 queries. users per second: 5449.23"
      ]
     },
     "metadata": {},
     "output_type": "display_data"
    },
    {
     "data": {
      "text/html": [
       "<pre>recommendations finished on 76000/138493 queries. users per second: 5457.92</pre>"
      ],
      "text/plain": [
       "recommendations finished on 76000/138493 queries. users per second: 5457.92"
      ]
     },
     "metadata": {},
     "output_type": "display_data"
    },
    {
     "data": {
      "text/html": [
       "<pre>recommendations finished on 77000/138493 queries. users per second: 5467.25</pre>"
      ],
      "text/plain": [
       "recommendations finished on 77000/138493 queries. users per second: 5467.25"
      ]
     },
     "metadata": {},
     "output_type": "display_data"
    },
    {
     "data": {
      "text/html": [
       "<pre>recommendations finished on 78000/138493 queries. users per second: 5476.88</pre>"
      ],
      "text/plain": [
       "recommendations finished on 78000/138493 queries. users per second: 5476.88"
      ]
     },
     "metadata": {},
     "output_type": "display_data"
    },
    {
     "data": {
      "text/html": [
       "<pre>recommendations finished on 79000/138493 queries. users per second: 5486.89</pre>"
      ],
      "text/plain": [
       "recommendations finished on 79000/138493 queries. users per second: 5486.89"
      ]
     },
     "metadata": {},
     "output_type": "display_data"
    },
    {
     "data": {
      "text/html": [
       "<pre>recommendations finished on 80000/138493 queries. users per second: 5494.89</pre>"
      ],
      "text/plain": [
       "recommendations finished on 80000/138493 queries. users per second: 5494.89"
      ]
     },
     "metadata": {},
     "output_type": "display_data"
    },
    {
     "data": {
      "text/html": [
       "<pre>recommendations finished on 81000/138493 queries. users per second: 5474.11</pre>"
      ],
      "text/plain": [
       "recommendations finished on 81000/138493 queries. users per second: 5474.11"
      ]
     },
     "metadata": {},
     "output_type": "display_data"
    },
    {
     "data": {
      "text/html": [
       "<pre>recommendations finished on 82000/138493 queries. users per second: 5464.61</pre>"
      ],
      "text/plain": [
       "recommendations finished on 82000/138493 queries. users per second: 5464.61"
      ]
     },
     "metadata": {},
     "output_type": "display_data"
    },
    {
     "data": {
      "text/html": [
       "<pre>recommendations finished on 83000/138493 queries. users per second: 5458.44</pre>"
      ],
      "text/plain": [
       "recommendations finished on 83000/138493 queries. users per second: 5458.44"
      ]
     },
     "metadata": {},
     "output_type": "display_data"
    },
    {
     "data": {
      "text/html": [
       "<pre>recommendations finished on 84000/138493 queries. users per second: 5453.17</pre>"
      ],
      "text/plain": [
       "recommendations finished on 84000/138493 queries. users per second: 5453.17"
      ]
     },
     "metadata": {},
     "output_type": "display_data"
    },
    {
     "data": {
      "text/html": [
       "<pre>recommendations finished on 85000/138493 queries. users per second: 5444.14</pre>"
      ],
      "text/plain": [
       "recommendations finished on 85000/138493 queries. users per second: 5444.14"
      ]
     },
     "metadata": {},
     "output_type": "display_data"
    },
    {
     "data": {
      "text/html": [
       "<pre>recommendations finished on 86000/138493 queries. users per second: 5437.17</pre>"
      ],
      "text/plain": [
       "recommendations finished on 86000/138493 queries. users per second: 5437.17"
      ]
     },
     "metadata": {},
     "output_type": "display_data"
    },
    {
     "data": {
      "text/html": [
       "<pre>recommendations finished on 87000/138493 queries. users per second: 5434.48</pre>"
      ],
      "text/plain": [
       "recommendations finished on 87000/138493 queries. users per second: 5434.48"
      ]
     },
     "metadata": {},
     "output_type": "display_data"
    },
    {
     "data": {
      "text/html": [
       "<pre>recommendations finished on 88000/138493 queries. users per second: 5441.27</pre>"
      ],
      "text/plain": [
       "recommendations finished on 88000/138493 queries. users per second: 5441.27"
      ]
     },
     "metadata": {},
     "output_type": "display_data"
    },
    {
     "data": {
      "text/html": [
       "<pre>recommendations finished on 89000/138493 queries. users per second: 5436.06</pre>"
      ],
      "text/plain": [
       "recommendations finished on 89000/138493 queries. users per second: 5436.06"
      ]
     },
     "metadata": {},
     "output_type": "display_data"
    },
    {
     "data": {
      "text/html": [
       "<pre>recommendations finished on 90000/138493 queries. users per second: 5437.18</pre>"
      ],
      "text/plain": [
       "recommendations finished on 90000/138493 queries. users per second: 5437.18"
      ]
     },
     "metadata": {},
     "output_type": "display_data"
    },
    {
     "data": {
      "text/html": [
       "<pre>recommendations finished on 91000/138493 queries. users per second: 5444.08</pre>"
      ],
      "text/plain": [
       "recommendations finished on 91000/138493 queries. users per second: 5444.08"
      ]
     },
     "metadata": {},
     "output_type": "display_data"
    },
    {
     "data": {
      "text/html": [
       "<pre>recommendations finished on 92000/138493 queries. users per second: 5452.49</pre>"
      ],
      "text/plain": [
       "recommendations finished on 92000/138493 queries. users per second: 5452.49"
      ]
     },
     "metadata": {},
     "output_type": "display_data"
    },
    {
     "data": {
      "text/html": [
       "<pre>recommendations finished on 93000/138493 queries. users per second: 5447.32</pre>"
      ],
      "text/plain": [
       "recommendations finished on 93000/138493 queries. users per second: 5447.32"
      ]
     },
     "metadata": {},
     "output_type": "display_data"
    },
    {
     "data": {
      "text/html": [
       "<pre>recommendations finished on 94000/138493 queries. users per second: 5439.92</pre>"
      ],
      "text/plain": [
       "recommendations finished on 94000/138493 queries. users per second: 5439.92"
      ]
     },
     "metadata": {},
     "output_type": "display_data"
    },
    {
     "data": {
      "text/html": [
       "<pre>recommendations finished on 95000/138493 queries. users per second: 5431.67</pre>"
      ],
      "text/plain": [
       "recommendations finished on 95000/138493 queries. users per second: 5431.67"
      ]
     },
     "metadata": {},
     "output_type": "display_data"
    },
    {
     "data": {
      "text/html": [
       "<pre>recommendations finished on 96000/138493 queries. users per second: 5431.81</pre>"
      ],
      "text/plain": [
       "recommendations finished on 96000/138493 queries. users per second: 5431.81"
      ]
     },
     "metadata": {},
     "output_type": "display_data"
    },
    {
     "data": {
      "text/html": [
       "<pre>recommendations finished on 97000/138493 queries. users per second: 5424.99</pre>"
      ],
      "text/plain": [
       "recommendations finished on 97000/138493 queries. users per second: 5424.99"
      ]
     },
     "metadata": {},
     "output_type": "display_data"
    },
    {
     "data": {
      "text/html": [
       "<pre>recommendations finished on 98000/138493 queries. users per second: 5416.91</pre>"
      ],
      "text/plain": [
       "recommendations finished on 98000/138493 queries. users per second: 5416.91"
      ]
     },
     "metadata": {},
     "output_type": "display_data"
    },
    {
     "data": {
      "text/html": [
       "<pre>recommendations finished on 99000/138493 queries. users per second: 5417.36</pre>"
      ],
      "text/plain": [
       "recommendations finished on 99000/138493 queries. users per second: 5417.36"
      ]
     },
     "metadata": {},
     "output_type": "display_data"
    },
    {
     "data": {
      "text/html": [
       "<pre>recommendations finished on 100000/138493 queries. users per second: 5424.18</pre>"
      ],
      "text/plain": [
       "recommendations finished on 100000/138493 queries. users per second: 5424.18"
      ]
     },
     "metadata": {},
     "output_type": "display_data"
    },
    {
     "data": {
      "text/html": [
       "<pre>recommendations finished on 101000/138493 queries. users per second: 5429.07</pre>"
      ],
      "text/plain": [
       "recommendations finished on 101000/138493 queries. users per second: 5429.07"
      ]
     },
     "metadata": {},
     "output_type": "display_data"
    },
    {
     "data": {
      "text/html": [
       "<pre>recommendations finished on 102000/138493 queries. users per second: 5421.4</pre>"
      ],
      "text/plain": [
       "recommendations finished on 102000/138493 queries. users per second: 5421.4"
      ]
     },
     "metadata": {},
     "output_type": "display_data"
    },
    {
     "data": {
      "text/html": [
       "<pre>recommendations finished on 103000/138493 queries. users per second: 5420.27</pre>"
      ],
      "text/plain": [
       "recommendations finished on 103000/138493 queries. users per second: 5420.27"
      ]
     },
     "metadata": {},
     "output_type": "display_data"
    },
    {
     "data": {
      "text/html": [
       "<pre>recommendations finished on 104000/138493 queries. users per second: 5425.52</pre>"
      ],
      "text/plain": [
       "recommendations finished on 104000/138493 queries. users per second: 5425.52"
      ]
     },
     "metadata": {},
     "output_type": "display_data"
    },
    {
     "data": {
      "text/html": [
       "<pre>recommendations finished on 105000/138493 queries. users per second: 5429.51</pre>"
      ],
      "text/plain": [
       "recommendations finished on 105000/138493 queries. users per second: 5429.51"
      ]
     },
     "metadata": {},
     "output_type": "display_data"
    },
    {
     "data": {
      "text/html": [
       "<pre>recommendations finished on 106000/138493 queries. users per second: 5431.15</pre>"
      ],
      "text/plain": [
       "recommendations finished on 106000/138493 queries. users per second: 5431.15"
      ]
     },
     "metadata": {},
     "output_type": "display_data"
    },
    {
     "data": {
      "text/html": [
       "<pre>recommendations finished on 107000/138493 queries. users per second: 5438.53</pre>"
      ],
      "text/plain": [
       "recommendations finished on 107000/138493 queries. users per second: 5438.53"
      ]
     },
     "metadata": {},
     "output_type": "display_data"
    },
    {
     "data": {
      "text/html": [
       "<pre>recommendations finished on 108000/138493 queries. users per second: 5432.22</pre>"
      ],
      "text/plain": [
       "recommendations finished on 108000/138493 queries. users per second: 5432.22"
      ]
     },
     "metadata": {},
     "output_type": "display_data"
    },
    {
     "data": {
      "text/html": [
       "<pre>recommendations finished on 109000/138493 queries. users per second: 5428.18</pre>"
      ],
      "text/plain": [
       "recommendations finished on 109000/138493 queries. users per second: 5428.18"
      ]
     },
     "metadata": {},
     "output_type": "display_data"
    },
    {
     "data": {
      "text/html": [
       "<pre>recommendations finished on 110000/138493 queries. users per second: 5421.25</pre>"
      ],
      "text/plain": [
       "recommendations finished on 110000/138493 queries. users per second: 5421.25"
      ]
     },
     "metadata": {},
     "output_type": "display_data"
    },
    {
     "data": {
      "text/html": [
       "<pre>recommendations finished on 111000/138493 queries. users per second: 5425.63</pre>"
      ],
      "text/plain": [
       "recommendations finished on 111000/138493 queries. users per second: 5425.63"
      ]
     },
     "metadata": {},
     "output_type": "display_data"
    },
    {
     "data": {
      "text/html": [
       "<pre>recommendations finished on 112000/138493 queries. users per second: 5422.35</pre>"
      ],
      "text/plain": [
       "recommendations finished on 112000/138493 queries. users per second: 5422.35"
      ]
     },
     "metadata": {},
     "output_type": "display_data"
    },
    {
     "data": {
      "text/html": [
       "<pre>recommendations finished on 113000/138493 queries. users per second: 5428.03</pre>"
      ],
      "text/plain": [
       "recommendations finished on 113000/138493 queries. users per second: 5428.03"
      ]
     },
     "metadata": {},
     "output_type": "display_data"
    },
    {
     "data": {
      "text/html": [
       "<pre>recommendations finished on 114000/138493 queries. users per second: 5431.99</pre>"
      ],
      "text/plain": [
       "recommendations finished on 114000/138493 queries. users per second: 5431.99"
      ]
     },
     "metadata": {},
     "output_type": "display_data"
    },
    {
     "data": {
      "text/html": [
       "<pre>recommendations finished on 115000/138493 queries. users per second: 5436.02</pre>"
      ],
      "text/plain": [
       "recommendations finished on 115000/138493 queries. users per second: 5436.02"
      ]
     },
     "metadata": {},
     "output_type": "display_data"
    },
    {
     "data": {
      "text/html": [
       "<pre>recommendations finished on 116000/138493 queries. users per second: 5440.27</pre>"
      ],
      "text/plain": [
       "recommendations finished on 116000/138493 queries. users per second: 5440.27"
      ]
     },
     "metadata": {},
     "output_type": "display_data"
    },
    {
     "data": {
      "text/html": [
       "<pre>recommendations finished on 117000/138493 queries. users per second: 5443.22</pre>"
      ],
      "text/plain": [
       "recommendations finished on 117000/138493 queries. users per second: 5443.22"
      ]
     },
     "metadata": {},
     "output_type": "display_data"
    },
    {
     "data": {
      "text/html": [
       "<pre>recommendations finished on 118000/138493 queries. users per second: 5438.76</pre>"
      ],
      "text/plain": [
       "recommendations finished on 118000/138493 queries. users per second: 5438.76"
      ]
     },
     "metadata": {},
     "output_type": "display_data"
    },
    {
     "data": {
      "text/html": [
       "<pre>recommendations finished on 119000/138493 queries. users per second: 5433.02</pre>"
      ],
      "text/plain": [
       "recommendations finished on 119000/138493 queries. users per second: 5433.02"
      ]
     },
     "metadata": {},
     "output_type": "display_data"
    },
    {
     "data": {
      "text/html": [
       "<pre>recommendations finished on 120000/138493 queries. users per second: 5433.16</pre>"
      ],
      "text/plain": [
       "recommendations finished on 120000/138493 queries. users per second: 5433.16"
      ]
     },
     "metadata": {},
     "output_type": "display_data"
    },
    {
     "data": {
      "text/html": [
       "<pre>recommendations finished on 121000/138493 queries. users per second: 5432.66</pre>"
      ],
      "text/plain": [
       "recommendations finished on 121000/138493 queries. users per second: 5432.66"
      ]
     },
     "metadata": {},
     "output_type": "display_data"
    },
    {
     "data": {
      "text/html": [
       "<pre>recommendations finished on 122000/138493 queries. users per second: 5435.79</pre>"
      ],
      "text/plain": [
       "recommendations finished on 122000/138493 queries. users per second: 5435.79"
      ]
     },
     "metadata": {},
     "output_type": "display_data"
    },
    {
     "data": {
      "text/html": [
       "<pre>recommendations finished on 123000/138493 queries. users per second: 5432.03</pre>"
      ],
      "text/plain": [
       "recommendations finished on 123000/138493 queries. users per second: 5432.03"
      ]
     },
     "metadata": {},
     "output_type": "display_data"
    },
    {
     "data": {
      "text/html": [
       "<pre>recommendations finished on 124000/138493 queries. users per second: 5429.94</pre>"
      ],
      "text/plain": [
       "recommendations finished on 124000/138493 queries. users per second: 5429.94"
      ]
     },
     "metadata": {},
     "output_type": "display_data"
    },
    {
     "data": {
      "text/html": [
       "<pre>recommendations finished on 125000/138493 queries. users per second: 5424.06</pre>"
      ],
      "text/plain": [
       "recommendations finished on 125000/138493 queries. users per second: 5424.06"
      ]
     },
     "metadata": {},
     "output_type": "display_data"
    },
    {
     "data": {
      "text/html": [
       "<pre>recommendations finished on 126000/138493 queries. users per second: 5428.36</pre>"
      ],
      "text/plain": [
       "recommendations finished on 126000/138493 queries. users per second: 5428.36"
      ]
     },
     "metadata": {},
     "output_type": "display_data"
    },
    {
     "data": {
      "text/html": [
       "<pre>recommendations finished on 127000/138493 queries. users per second: 5432.74</pre>"
      ],
      "text/plain": [
       "recommendations finished on 127000/138493 queries. users per second: 5432.74"
      ]
     },
     "metadata": {},
     "output_type": "display_data"
    },
    {
     "data": {
      "text/html": [
       "<pre>recommendations finished on 128000/138493 queries. users per second: 5426.8</pre>"
      ],
      "text/plain": [
       "recommendations finished on 128000/138493 queries. users per second: 5426.8"
      ]
     },
     "metadata": {},
     "output_type": "display_data"
    },
    {
     "data": {
      "text/html": [
       "<pre>recommendations finished on 129000/138493 queries. users per second: 5422.3</pre>"
      ],
      "text/plain": [
       "recommendations finished on 129000/138493 queries. users per second: 5422.3"
      ]
     },
     "metadata": {},
     "output_type": "display_data"
    },
    {
     "data": {
      "text/html": [
       "<pre>recommendations finished on 130000/138493 queries. users per second: 5421.72</pre>"
      ],
      "text/plain": [
       "recommendations finished on 130000/138493 queries. users per second: 5421.72"
      ]
     },
     "metadata": {},
     "output_type": "display_data"
    },
    {
     "data": {
      "text/html": [
       "<pre>recommendations finished on 131000/138493 queries. users per second: 5422.68</pre>"
      ],
      "text/plain": [
       "recommendations finished on 131000/138493 queries. users per second: 5422.68"
      ]
     },
     "metadata": {},
     "output_type": "display_data"
    },
    {
     "data": {
      "text/html": [
       "<pre>recommendations finished on 132000/138493 queries. users per second: 5427.28</pre>"
      ],
      "text/plain": [
       "recommendations finished on 132000/138493 queries. users per second: 5427.28"
      ]
     },
     "metadata": {},
     "output_type": "display_data"
    },
    {
     "data": {
      "text/html": [
       "<pre>recommendations finished on 133000/138493 queries. users per second: 5432.37</pre>"
      ],
      "text/plain": [
       "recommendations finished on 133000/138493 queries. users per second: 5432.37"
      ]
     },
     "metadata": {},
     "output_type": "display_data"
    },
    {
     "data": {
      "text/html": [
       "<pre>recommendations finished on 134000/138493 queries. users per second: 5435.59</pre>"
      ],
      "text/plain": [
       "recommendations finished on 134000/138493 queries. users per second: 5435.59"
      ]
     },
     "metadata": {},
     "output_type": "display_data"
    },
    {
     "data": {
      "text/html": [
       "<pre>recommendations finished on 135000/138493 queries. users per second: 5429.54</pre>"
      ],
      "text/plain": [
       "recommendations finished on 135000/138493 queries. users per second: 5429.54"
      ]
     },
     "metadata": {},
     "output_type": "display_data"
    },
    {
     "data": {
      "text/html": [
       "<pre>recommendations finished on 136000/138493 queries. users per second: 5428.04</pre>"
      ],
      "text/plain": [
       "recommendations finished on 136000/138493 queries. users per second: 5428.04"
      ]
     },
     "metadata": {},
     "output_type": "display_data"
    },
    {
     "data": {
      "text/html": [
       "<pre>recommendations finished on 137000/138493 queries. users per second: 5422.06</pre>"
      ],
      "text/plain": [
       "recommendations finished on 137000/138493 queries. users per second: 5422.06"
      ]
     },
     "metadata": {},
     "output_type": "display_data"
    },
    {
     "data": {
      "text/html": [
       "<pre>recommendations finished on 138000/138493 queries. users per second: 5423.53</pre>"
      ],
      "text/plain": [
       "recommendations finished on 138000/138493 queries. users per second: 5423.53"
      ]
     },
     "metadata": {},
     "output_type": "display_data"
    }
   ],
   "source": [
    "results = model.recommend()"
   ]
  },
  {
   "cell_type": "code",
   "execution_count": 11,
   "metadata": {
    "collapsed": false
   },
   "outputs": [
    {
     "name": "stdout",
     "output_type": "stream",
     "text": [
      "{'movieId': 1240, 'score': 0.123724919850709, 'userId': 2, 'rank': 1}\n"
     ]
    }
   ],
   "source": [
    "print(results[10])"
   ]
  },
  {
   "cell_type": "code",
   "execution_count": null,
   "metadata": {
    "collapsed": true
   },
   "outputs": [],
   "source": [
    "import lightfm"
   ]
  }
 ],
 "metadata": {
  "kernelspec": {
   "display_name": "Python 2",
   "language": "python",
   "name": "python2"
  },
  "language_info": {
   "codemirror_mode": {
    "name": "ipython",
    "version": 2
   },
   "file_extension": ".py",
   "mimetype": "text/x-python",
   "name": "python",
   "nbconvert_exporter": "python",
   "pygments_lexer": "ipython2",
   "version": "2.7.11"
  }
 },
 "nbformat": 4,
 "nbformat_minor": 2
}
